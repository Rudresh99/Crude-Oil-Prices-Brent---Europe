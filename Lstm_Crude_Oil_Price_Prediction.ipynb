{
  "nbformat": 4,
  "nbformat_minor": 0,
  "metadata": {
    "celltoolbar": "Attachments",
    "kernelspec": {
      "display_name": "Python 3",
      "language": "python",
      "name": "python3"
    },
    "language_info": {
      "codemirror_mode": {
        "name": "ipython",
        "version": 3
      },
      "file_extension": ".py",
      "mimetype": "text/x-python",
      "name": "python",
      "nbconvert_exporter": "python",
      "pygments_lexer": "ipython3",
      "version": "3.6.8"
    },
    "colab": {
      "name": "Lstm_Crude_Oil_Price_Prediction.ipynb",
      "provenance": [],
      "collapsed_sections": [
        "X-TuYr-OWA2l",
        "maiXokBHWA2m"
      ],
      "include_colab_link": true
    }
  },
  "cells": [
    {
      "cell_type": "markdown",
      "metadata": {
        "id": "view-in-github",
        "colab_type": "text"
      },
      "source": [
        "<a href=\"https://colab.research.google.com/github/Rudresh99/Crude-Oil-Prices-Brent---Europe/blob/master/Lstm_Crude_Oil_Price_Prediction.ipynb\" target=\"_parent\"><img src=\"https://colab.research.google.com/assets/colab-badge.svg\" alt=\"Open In Colab\"/></a>"
      ]
    },
    {
      "cell_type": "code",
      "metadata": {
        "id": "_1Ice6-vhRdt",
        "colab_type": "code",
        "colab": {
          "base_uri": "https://localhost:8080/",
          "height": 122
        },
        "outputId": "0ce40046-3221-450d-9314-c1d9ad3cc847"
      },
      "source": [
        "from google.colab import drive\n",
        "drive.mount('/content/drive')"
      ],
      "execution_count": 1,
      "outputs": [
        {
          "output_type": "stream",
          "text": [
            "Go to this URL in a browser: https://accounts.google.com/o/oauth2/auth?client_id=947318989803-6bn6qk8qdgf4n4g3pfee6491hc0brc4i.apps.googleusercontent.com&redirect_uri=urn%3aietf%3awg%3aoauth%3a2.0%3aoob&response_type=code&scope=email%20https%3a%2f%2fwww.googleapis.com%2fauth%2fdocs.test%20https%3a%2f%2fwww.googleapis.com%2fauth%2fdrive%20https%3a%2f%2fwww.googleapis.com%2fauth%2fdrive.photos.readonly%20https%3a%2f%2fwww.googleapis.com%2fauth%2fpeopleapi.readonly\n",
            "\n",
            "Enter your authorization code:\n",
            "··········\n",
            "Mounted at /content/drive\n"
          ],
          "name": "stdout"
        }
      ]
    },
    {
      "cell_type": "code",
      "metadata": {
        "id": "I9bFWo1aWA01",
        "colab_type": "code",
        "colab": {},
        "outputId": "da46ce4b-9f9d-4757-9943-23bea6131f80"
      },
      "source": [
        "from io import StringIO\n",
        "import requests\n",
        "import json\n",
        "import pandas as pd\n",
        "\n",
        "# @hidden_cell\n",
        "# This function accesses a file in your Object Storage. The definition contains your credentials.\n",
        "# You might want to remove those credentials before you share your notebook.\n",
        "def get_object_storage_file_with_credentials_d3bd5b94a9334de59a55a7fed2bedeaa(container, filename):\n",
        "    \"\"\"This functions returns a StringIO object containing\n",
        "    the file content from Bluemix Object Storage.\"\"\"\n",
        "\n",
        "    url1 = ''.join(['https://identity.open.softlayer.com', '/v3/auth/tokens'])\n",
        "    data = {'auth': {'identity': {'methods': ['password'],\n",
        "            'password': {'user': {'name': 'member_adcb54bd899a7e39e31582bccad1577f68f1992f','domain': {'id': '4619da2fa8524beda11c89d2d1969c5b'},\n",
        "            'password': 'P*/m8,!#7s6H9poz'}}}}}\n",
        "    headers1 = {'Content-Type': 'application/json'}\n",
        "    resp1 = requests.post(url=url1, data=json.dumps(data), headers=headers1)\n",
        "    resp1_body = resp1.json()\n",
        "    for e1 in resp1_body['token']['catalog']:\n",
        "        if(e1['type']=='object-store'):\n",
        "            for e2 in e1['endpoints']:\n",
        "                        if(e2['interface']=='public'and e2['region']=='dallas'):\n",
        "                            url2 = ''.join([e2['url'],'/', container, '/', filename])\n",
        "    s_subject_token = resp1.headers['x-subject-token']\n",
        "    headers2 = {'X-Auth-Token': s_subject_token, 'accept': 'application/json'}\n",
        "    resp2 = requests.get(url=url2, headers=headers2)\n",
        "    return StringIO(resp2.text)\n",
        "\n",
        "df_data_1 = pd.read_csv(get_object_storage_file_with_credentials_d3bd5b94a9334de59a55a7fed2bedeaa('CrudeAi', 'DCOILBRENTEU.csv'))\n",
        "df_data_1.head()\n"
      ],
      "execution_count": null,
      "outputs": [
        {
          "output_type": "execute_result",
          "data": {
            "text/html": [
              "<div>\n",
              "<style scoped>\n",
              "    .dataframe tbody tr th:only-of-type {\n",
              "        vertical-align: middle;\n",
              "    }\n",
              "\n",
              "    .dataframe tbody tr th {\n",
              "        vertical-align: top;\n",
              "    }\n",
              "\n",
              "    .dataframe thead th {\n",
              "        text-align: right;\n",
              "    }\n",
              "</style>\n",
              "<table border=\"1\" class=\"dataframe\">\n",
              "  <thead>\n",
              "    <tr style=\"text-align: right;\">\n",
              "      <th></th>\n",
              "      <th>DATE</th>\n",
              "      <th>DCOILBRENTEU</th>\n",
              "    </tr>\n",
              "  </thead>\n",
              "  <tbody>\n",
              "    <tr>\n",
              "      <th>0</th>\n",
              "      <td>1987-05-20</td>\n",
              "      <td>18.63</td>\n",
              "    </tr>\n",
              "    <tr>\n",
              "      <th>1</th>\n",
              "      <td>1987-05-21</td>\n",
              "      <td>18.45</td>\n",
              "    </tr>\n",
              "    <tr>\n",
              "      <th>2</th>\n",
              "      <td>1987-05-22</td>\n",
              "      <td>18.55</td>\n",
              "    </tr>\n",
              "    <tr>\n",
              "      <th>3</th>\n",
              "      <td>1987-05-25</td>\n",
              "      <td>18.60</td>\n",
              "    </tr>\n",
              "    <tr>\n",
              "      <th>4</th>\n",
              "      <td>1987-05-26</td>\n",
              "      <td>18.63</td>\n",
              "    </tr>\n",
              "  </tbody>\n",
              "</table>\n",
              "</div>"
            ],
            "text/plain": [
              "         DATE DCOILBRENTEU\n",
              "0  1987-05-20        18.63\n",
              "1  1987-05-21        18.45\n",
              "2  1987-05-22        18.55\n",
              "3  1987-05-25        18.60\n",
              "4  1987-05-26        18.63"
            ]
          },
          "metadata": {
            "tags": []
          },
          "execution_count": 1
        }
      ]
    },
    {
      "cell_type": "markdown",
      "metadata": {
        "id": "mOLexMOoWA1B",
        "colab_type": "text"
      },
      "source": [
        "Data Source\n",
        "-----------\n",
        "U.S. Energy Information Administration, Crude Oil Prices: Brent - Europe [DCOILBRENTEU], retrieved from FRED, Federal Reserve Bank of St. Louis; https://fred.stlouisfed.org/series/DCOILBRENTEU, January 10, 2018.\n",
        "\n",
        "![alt text](https://user-images.githubusercontent.com/52448964/85650354-06f7c300-b6c3-11ea-947b-51bd32c88f8f.png)"
      ]
    },
    {
      "cell_type": "code",
      "metadata": {
        "id": "OPffmsKdWA1C",
        "colab_type": "code",
        "colab": {},
        "outputId": "8729bda1-4b17-4b5f-bff1-f388d980b591"
      },
      "source": [
        "df_data_1 = df_data_1[df_data_1.DCOILBRENTEU != \".\"]\n",
        "print(df_data_1.shape)"
      ],
      "execution_count": null,
      "outputs": [
        {
          "output_type": "stream",
          "text": [
            "(7783, 2)\n"
          ],
          "name": "stdout"
        }
      ]
    },
    {
      "cell_type": "code",
      "metadata": {
        "id": "6uTT4AHHWA1I",
        "colab_type": "code",
        "colab": {},
        "outputId": "4532af68-13cb-4328-8d21-9b86e17e4fc3"
      },
      "source": [
        "import matplotlib.pyplot as plt\n",
        "df_data_1_plot = df_data_1.iloc[:,1:2].values.astype(float)\n",
        "# Visualising the Data\n",
        "plt.plot(df_data_1_plot, color = 'red', label = 'Crude Oil Prices')\n",
        "plt.title('Crude Oil Prices Historical Data')\n",
        "plt.xlabel('Time (Days)')\n",
        "plt.ylabel('Crude Oil Prices')\n",
        "plt.legend()\n",
        "plt.show()"
      ],
      "execution_count": null,
      "outputs": [
        {
          "output_type": "display_data",
          "data": {
            "text/plain": [
              "<Figure size 640x480 with 1 Axes>"
            ]
          },
          "metadata": {
            "tags": []
          }
        }
      ]
    },
    {
      "cell_type": "markdown",
      "metadata": {
        "id": "15Byi8erWA1O",
        "colab_type": "text"
      },
      "source": [
        "Stateful vs. Stateless LSTM\n",
        "--------------------------\n",
        "\n",
        "1. **Stateless**: LSTM updates parameters on **batch 1** and then initiates cell states (meaning - memory, usually with zeros) for **batch 2** \n",
        "2. **Stateful**: it uses batch 1 last output cell sates as initial states for batch 2.\n",
        "\n",
        "![alt text](https://3qeqpr26caki16dnhd19sv6by6v-wpengine.netdna-ssl.com/wp-content/uploads/2017/03/Box-and-Whisker-Plot-of-Test-RMSE-of-Stateful-vs-Stateless-LSTM-Results.png)\n",
        "\n",
        "When to use which?\n",
        "----------------\n",
        "\n",
        "- When  sequences in batches are related to each other (e.g. prices of one commodity), we should better use **stateful** mode\n",
        "- Else, when one sequence represents a complete sentence, we  should go with **stateless** mode\n",
        "\n",
        "\n"
      ]
    },
    {
      "cell_type": "markdown",
      "metadata": {
        "id": "ZxDEVx0bWA1P",
        "colab_type": "text"
      },
      "source": [
        "Batch-size: which batch-size to choose?\n",
        "------------------------------------\n",
        "\n",
        "**Very important decision!**\n",
        "\n",
        "Imagine, you must learn to recognize a bird...\n",
        "You are presented images of different birds.\n",
        "\n",
        "What would you prefer:\n",
        "1. To see the one image at a time, make your notes about special bird quilities (set your **weights**) and then see another bird and so on\n",
        "2. **OR** may be you would better learn if you see - let's say 5 - bird images at ones. May be then you can faster notice the bird's intrinsic properties?\n",
        "\n",
        "I'd say - the second method is more efficient for humans. We need more examples of an entitiy, that we have to distinguish. \n",
        "\n",
        "**So the machines! Therefore we select a batch size of 64.\n",
        "Later in programming assigment we will see how the batch size impacts the prediction accuracy.**"
      ]
    },
    {
      "cell_type": "code",
      "metadata": {
        "id": "lp2xRF-tWA1Q",
        "colab_type": "code",
        "colab": {},
        "outputId": "3fe8b3fe-d24f-4349-9075-ecbe3c442216"
      },
      "source": [
        "#import packages\n",
        "import numpy as np\n",
        "import pandas as pd\n",
        "from keras.preprocessing import sequence\n",
        "from keras.models import load_model"
      ],
      "execution_count": null,
      "outputs": [
        {
          "output_type": "stream",
          "text": [
            "Using TensorFlow backend.\n"
          ],
          "name": "stderr"
        }
      ]
    },
    {
      "cell_type": "code",
      "metadata": {
        "id": "ffKB7PLvWA1V",
        "colab_type": "code",
        "colab": {}
      },
      "source": [
        "# defining the batch size and number of epochs\n",
        "batch_size = 64\n",
        "epochs = 120\n",
        "timesteps = 30"
      ],
      "execution_count": null,
      "outputs": []
    },
    {
      "cell_type": "markdown",
      "metadata": {
        "id": "0KIbd84SWA1a",
        "colab_type": "text"
      },
      "source": [
        "Batch-size and trainings-set size\n",
        "-------------------------------\n",
        "\n",
        "With **stateful LSTMs** the trainings-set size must be divisible without remainder by the batch-size (modulo = 0)"
      ]
    },
    {
      "cell_type": "code",
      "metadata": {
        "id": "0pdlxAuMWA1c",
        "colab_type": "code",
        "colab": {},
        "outputId": "f237b7bf-5a5f-4c40-e135-85c1b7b92674"
      },
      "source": [
        "length = len(df_data_1)\n",
        "print(length)\n",
        "length *= 1 - 0.1\n",
        "print(length)\n"
      ],
      "execution_count": null,
      "outputs": [
        {
          "output_type": "stream",
          "text": [
            "7783\n",
            "7004.7\n"
          ],
          "name": "stdout"
        }
      ]
    },
    {
      "cell_type": "code",
      "metadata": {
        "id": "jAxurzmAWA1n",
        "colab_type": "code",
        "colab": {},
        "outputId": "d7e39719-9f11-43f4-cfe2-5b9f6a09a1d7"
      },
      "source": [
        "7004.7%64.0"
      ],
      "execution_count": null,
      "outputs": [
        {
          "output_type": "execute_result",
          "data": {
            "text/plain": [
              "28.699999999999818"
            ]
          },
          "metadata": {
            "tags": []
          },
          "execution_count": 7
        }
      ]
    },
    {
      "cell_type": "code",
      "metadata": {
        "id": "EV_QHAyCWA1t",
        "colab_type": "code",
        "colab": {},
        "outputId": "a7767784-bf7a-4801-df3e-32ba9b693b07"
      },
      "source": [
        "6976.0%64.0"
      ],
      "execution_count": null,
      "outputs": [
        {
          "output_type": "execute_result",
          "data": {
            "text/plain": [
              "0.0"
            ]
          },
          "metadata": {
            "tags": []
          },
          "execution_count": 8
        }
      ]
    },
    {
      "cell_type": "code",
      "metadata": {
        "id": "9aVZtvBBWA1y",
        "colab_type": "code",
        "colab": {}
      },
      "source": [
        "def get_train_length(dataset, batch_size, test_percent):\n",
        "    # substract test_percent to be excluded from training, reserved for testset\n",
        "    length = len(dataset)\n",
        "    length *= 1 - test_percent\n",
        "    train_length_values = []\n",
        "    for x in range(int(length) - 100,int(length)): \n",
        "        modulo=x%batch_size\n",
        "        if (modulo == 0):\n",
        "            train_length_values.append(x)\n",
        "            print(x)\n",
        "    return (max(train_length_values))"
      ],
      "execution_count": null,
      "outputs": []
    },
    {
      "cell_type": "code",
      "metadata": {
        "id": "pGOxhaiMWA13",
        "colab_type": "code",
        "colab": {},
        "outputId": "a2c6dcd6-ba5a-43bb-ef83-a5f0cc486869"
      },
      "source": [
        "length = get_train_length(df_data_1, batch_size, 0.1)\n",
        "print(length)"
      ],
      "execution_count": null,
      "outputs": [
        {
          "output_type": "stream",
          "text": [
            "6912\n",
            "6976\n",
            "6976\n"
          ],
          "name": "stdout"
        }
      ]
    },
    {
      "cell_type": "code",
      "metadata": {
        "id": "4j3ratLGWA19",
        "colab_type": "code",
        "colab": {},
        "outputId": "0e4f2e6b-7831-44f3-e5a2-b19f6ab0f72e"
      },
      "source": [
        "#Adding timesteps * 2\n",
        "upper_train = length + timesteps*2\n",
        "df_data_1_train = df_data_1[0:upper_train]\n",
        "training_set = df_data_1_train.iloc[:,1:2].values\n",
        "training_set.shape"
      ],
      "execution_count": null,
      "outputs": [
        {
          "output_type": "execute_result",
          "data": {
            "text/plain": [
              "(7036, 1)"
            ]
          },
          "metadata": {
            "tags": []
          },
          "execution_count": 11
        }
      ]
    },
    {
      "cell_type": "code",
      "metadata": {
        "id": "kh76iEVmWA2F",
        "colab_type": "code",
        "colab": {},
        "outputId": "9e24ea78-00bf-46a9-9518-4e036c215b44"
      },
      "source": [
        "# Feature Scaling\n",
        "#scale between 0 and 1. the weights are esier to find.\n",
        "from sklearn.preprocessing import MinMaxScaler\n",
        "sc = MinMaxScaler(feature_range = (0, 1))\n",
        "training_set_scaled = sc.fit_transform(np.float64(training_set))\n",
        "training_set_scaled.shape"
      ],
      "execution_count": null,
      "outputs": [
        {
          "output_type": "execute_result",
          "data": {
            "text/plain": [
              "(7036, 1)"
            ]
          },
          "metadata": {
            "tags": []
          },
          "execution_count": 12
        }
      ]
    },
    {
      "cell_type": "code",
      "metadata": {
        "id": "_-sW-aD1WA2K",
        "colab_type": "code",
        "colab": {},
        "outputId": "370eaa6d-9500-4652-faf2-def4f7f8e8cf"
      },
      "source": [
        "X_train = []\n",
        "y_train = []\n",
        "\n",
        "# Creating a data structure with n timesteps\n",
        "\n",
        "print(length + timesteps)\n",
        "for i in range(timesteps, length + timesteps): \n",
        "    X_train.append(training_set_scaled[i-timesteps:i,0])\n",
        "    y_train.append(training_set_scaled[i:i+timesteps,0])\n",
        "\n",
        "print(len(X_train))\n",
        "print(len(y_train))\n",
        "#create X_train matrix\n",
        "#30 items per array (timestep) \n",
        "print(X_train[0:2])\n",
        "print(np.array(X_train).shape)\n",
        "#create Y_train matrix\n",
        "#30 items per array (timestep) \n",
        "print(y_train[0:2])\n",
        "print(np.array(y_train).shape)"
      ],
      "execution_count": null,
      "outputs": [
        {
          "output_type": "stream",
          "text": [
            "7006\n",
            "6976\n",
            "6976\n",
            "[array([0.07067112, 0.0693363 , 0.07007786, 0.07044865, 0.07067112,\n",
            "       0.07044865, 0.07044865, 0.07030033, 0.07081943, 0.0710419 ,\n",
            "       0.07156099, 0.07178346, 0.07081943, 0.07156099, 0.07178346,\n",
            "       0.07178346, 0.0710419 , 0.07178346, 0.07267334, 0.07363737,\n",
            "       0.07378569, 0.07378569, 0.07415647, 0.07267334, 0.07156099,\n",
            "       0.07119021, 0.07400816, 0.07452725, 0.07400816, 0.07326659]), array([0.0693363 , 0.07007786, 0.07044865, 0.07067112, 0.07044865,\n",
            "       0.07044865, 0.07030033, 0.07081943, 0.0710419 , 0.07156099,\n",
            "       0.07178346, 0.07081943, 0.07156099, 0.07178346, 0.07178346,\n",
            "       0.0710419 , 0.07178346, 0.07267334, 0.07363737, 0.07378569,\n",
            "       0.07378569, 0.07415647, 0.07267334, 0.07156099, 0.07119021,\n",
            "       0.07400816, 0.07452725, 0.07400816, 0.07326659, 0.07526882])]\n",
            "(6976, 30)\n",
            "[array([0.07526882, 0.07586207, 0.07697442, 0.07712273, 0.07697442,\n",
            "       0.07845755, 0.07882833, 0.07956989, 0.07994067, 0.08290693,\n",
            "       0.08379681, 0.08550241, 0.08490916, 0.08342603, 0.08327772,\n",
            "       0.0819429 , 0.07771598, 0.0756396 , 0.07919911, 0.08068224,\n",
            "       0.08231368, 0.08105302, 0.08787542, 0.08565072, 0.07934742,\n",
            "       0.07897664, 0.07823508, 0.07660363, 0.07675195, 0.07712273]), array([0.07586207, 0.07697442, 0.07712273, 0.07697442, 0.07845755,\n",
            "       0.07882833, 0.07956989, 0.07994067, 0.08290693, 0.08379681,\n",
            "       0.08550241, 0.08490916, 0.08342603, 0.08327772, 0.0819429 ,\n",
            "       0.07771598, 0.0756396 , 0.07919911, 0.08068224, 0.08231368,\n",
            "       0.08105302, 0.08787542, 0.08565072, 0.07934742, 0.07897664,\n",
            "       0.07823508, 0.07660363, 0.07675195, 0.07712273, 0.07638116])]\n",
            "(6976, 30)\n"
          ],
          "name": "stdout"
        }
      ]
    },
    {
      "cell_type": "code",
      "metadata": {
        "id": "rnMwmnrtWA2P",
        "colab_type": "code",
        "colab": {},
        "outputId": "8a3199c1-3e77-487c-9da1-e71253126a01"
      },
      "source": [
        "# Reshaping\n",
        "X_train, y_train = np.array(X_train), np.array(y_train)\n",
        "X_train = np.reshape(X_train, (X_train.shape[0], X_train.shape[1], 1))\n",
        "y_train = np.reshape(y_train, (y_train.shape[0], y_train.shape[1], 1))\n",
        "print(X_train.shape)\n",
        "print(y_train.shape)\n"
      ],
      "execution_count": null,
      "outputs": [
        {
          "output_type": "stream",
          "text": [
            "(6976, 30, 1)\n",
            "(6976, 30, 1)\n"
          ],
          "name": "stdout"
        }
      ]
    },
    {
      "cell_type": "code",
      "metadata": {
        "id": "n3dvZ-SmWA2V",
        "colab_type": "code",
        "colab": {}
      },
      "source": [
        "# Building the LSTM\n",
        "# Importing the Keras libraries and packages\n",
        "\n",
        "from keras.layers import Dense\n",
        "from keras.layers import Input, LSTM\n",
        "from keras.models import Model\n",
        "import h5py"
      ],
      "execution_count": null,
      "outputs": []
    },
    {
      "cell_type": "code",
      "metadata": {
        "id": "ld98i0lqWA2c",
        "colab_type": "code",
        "colab": {},
        "outputId": "1a6e5e8b-394b-425d-c201-44c55ce0f46a"
      },
      "source": [
        "# Initialising the LSTM Model with MAE Loss-Function\n",
        "# Using Functional API\n",
        "\n",
        "inputs_1_mae = Input(batch_shape=(batch_size,timesteps,1))\n",
        "#each layer is the input of the next layer\n",
        "lstm_1_mae = LSTM(10, stateful=True, return_sequences=True)(inputs_1_mae)\n",
        "lstm_2_mae = LSTM(10, stateful=True, return_sequences=True)(lstm_1_mae)\n",
        "\n",
        "output_1_mae = Dense(units = 1)(lstm_2_mae)\n",
        "\n",
        "regressor_mae = Model(inputs=inputs_1_mae, outputs = output_1_mae)\n",
        "\n",
        "#adam is fast starting off and then gets slower and more precise\n",
        "#mae -> mean absolute error loss function\n",
        "regressor_mae.compile(optimizer='adam', loss = 'mae')\n",
        "regressor_mae.summary()"
      ],
      "execution_count": null,
      "outputs": [
        {
          "output_type": "stream",
          "text": [
            "_________________________________________________________________\n",
            "Layer (type)                 Output Shape              Param #   \n",
            "=================================================================\n",
            "input_1 (InputLayer)         (64, 30, 1)               0         \n",
            "_________________________________________________________________\n",
            "lstm_1 (LSTM)                (64, 30, 10)              480       \n",
            "_________________________________________________________________\n",
            "lstm_2 (LSTM)                (64, 30, 10)              840       \n",
            "_________________________________________________________________\n",
            "dense_1 (Dense)              (64, 30, 1)               11        \n",
            "=================================================================\n",
            "Total params: 1,331\n",
            "Trainable params: 1,331\n",
            "Non-trainable params: 0\n",
            "_________________________________________________________________\n"
          ],
          "name": "stdout"
        }
      ]
    },
    {
      "cell_type": "code",
      "metadata": {
        "id": "gcm8tpF2WA2g",
        "colab_type": "code",
        "colab": {}
      },
      "source": [
        "from keras import backend as K\n",
        "\n",
        "K.set_session(K.tf.Session(config=K.tf.ConfigProto(intra_op_parallelism_threads=1, inter_op_parallelism_threads=1)))\n"
      ],
      "execution_count": null,
      "outputs": []
    },
    {
      "cell_type": "markdown",
      "metadata": {
        "id": "X-TuYr-OWA2l",
        "colab_type": "text"
      },
      "source": [
        "Citation from Redwood Center for Theoretical Neuroscince (Berkeley University)\n",
        "---------------------\n",
        "http://redwood.berkeley.edu\n",
        "\n",
        "http://redwood.berkeley.edu/vs265/Brian-Cheung-LSTMS.pdf\n",
        "\n",
        "Overall LSTM Structure\n",
        "----------------\n",
        "![alt text](https://www.researchgate.net/profile/Oezal_Yildirim/publication/324056729/figure/fig3/AS:619912796073986@1524810136091/Basic-structure-of-the-BLSTM-network-The-LSTM-nets-at-the-bottom-indicate-the-forward.png)\n",
        "\n",
        "\n",
        "\n",
        "LSTM Node Anatomy\n",
        "----------------\n",
        "![alt text](https://devopedia.org/images/article/217/1055.1569518278.jpg)"
      ]
    },
    {
      "cell_type": "markdown",
      "metadata": {
        "id": "maiXokBHWA2m",
        "colab_type": "text"
      },
      "source": [
        "One of the best articles:\n",
        "-----------------------\n",
        "http://colah.github.io/posts/2015-08-Understanding-LSTMs/"
      ]
    },
    {
      "cell_type": "markdown",
      "metadata": {
        "id": "oeJPPeUTWA2n",
        "colab_type": "text"
      },
      "source": [
        "How LSTM Param Number is computed?\n",
        "--------------------------------\n",
        "\n",
        "1. To decide how to handle the memory each LSTM Cell has <bold>3 Gates</bold>: \n",
        "    - input (what to let in), \n",
        "    - forget (what to forget) and \n",
        "    - output (what to write to the output)\n",
        "2. LSTM **Cell State** is its **memory**\n",
        "3. LSTM Hidden State is equivalent to the Cell output:\n",
        "    - lstm_hidden_state_size (number of neurons = memory cells) = lstm_outputs_size\n",
        "4. Parameters:\n",
        "    - weights for the inputs (lstm_inputs_size)\n",
        "    - weights for the outputs (lstm_outputs_size)\n",
        "    - bias variable\n",
        "5.  Result from previous point - for all 3 Gates and for Cell State ( = 4)  \n",
        "   \n",
        "    \\begin{equation}\n",
        "          \\textbf{PARAMETERS} = \\textbf4 \\times \\textbf{ LSTM outputs size} \\times (\\textbf{weights LSTM inputs size} + \\textbf{weights LSTM outputs size} + 1 \\textbf{ bias variable})\n",
        "    \\end{equation}\n",
        "    \n",
        "\n"
      ]
    },
    {
      "cell_type": "code",
      "metadata": {
        "id": "2Ly_ekxwWA2o",
        "colab_type": "code",
        "colab": {},
        "outputId": "9b2d9025-7410-4f76-8691-6191f1f3d3a6"
      },
      "source": [
        "# 1st LSTM Layer\n",
        "parameters = 4 * 10 * (1 + 10 + 1)\n",
        "print(parameters)"
      ],
      "execution_count": null,
      "outputs": [
        {
          "output_type": "stream",
          "text": [
            "480\n"
          ],
          "name": "stdout"
        }
      ]
    },
    {
      "cell_type": "code",
      "metadata": {
        "id": "QpfZdB9HWA2s",
        "colab_type": "code",
        "colab": {},
        "outputId": "daa4b3fa-6655-4d76-8b51-aebe3481382a"
      },
      "source": [
        "parameters = 4 * 10 * (10 + 10 + 1)\n",
        "print(parameters)"
      ],
      "execution_count": null,
      "outputs": [
        {
          "output_type": "stream",
          "text": [
            "840\n"
          ],
          "name": "stdout"
        }
      ]
    },
    {
      "cell_type": "code",
      "metadata": {
        "id": "TO8qXmhSWA23",
        "colab_type": "code",
        "colab": {},
        "outputId": "cfcce82f-6f1c-431e-fc15-d080fc97e7ad"
      },
      "source": [
        "#Statefull\n",
        "for i in range(epochs):\n",
        "    print(\"Epoch: \" + str(i))\n",
        "    #run through all data but the cell, hidden state are used for the next batch.\n",
        "    regressor_mae.fit(X_train, y_train, shuffle=False, epochs = 1, batch_size = batch_size)\n",
        "    #resets only the states but the weights, cell and hidden are kept.\n",
        "    regressor_mae.reset_states()\n",
        "    \n",
        "#Stateless\n",
        "#between the batches the cell and hidden states are lost.\n",
        "#regressor_mae.fit(X_train, y_train, shuffle=False, epochs = epochs, batch_size = batch_size)"
      ],
      "execution_count": null,
      "outputs": [
        {
          "output_type": "stream",
          "text": [
            "Epoch: 0\n",
            "Epoch 1/1\n",
            "6976/6976 [==============================] - 3s 453us/step - loss: 0.0500\n",
            "Epoch: 1\n",
            "Epoch 1/1\n",
            "6976/6976 [==============================] - 3s 417us/step - loss: 0.0601\n",
            "Epoch: 2\n",
            "Epoch 1/1\n",
            "6976/6976 [==============================] - 3s 385us/step - loss: 0.0565\n",
            "Epoch: 3\n",
            "Epoch 1/1\n",
            "6976/6976 [==============================] - 3s 389us/step - loss: 0.0477\n",
            "Epoch: 4\n",
            "Epoch 1/1\n",
            "6976/6976 [==============================] - 3s 444us/step - loss: 0.0460\n",
            "Epoch: 5\n",
            "Epoch 1/1\n",
            "6976/6976 [==============================] - 3s 415us/step - loss: 0.0449\n",
            "Epoch: 6\n",
            "Epoch 1/1\n",
            "6976/6976 [==============================] - 3s 433us/step - loss: 0.0439\n",
            "Epoch: 7\n",
            "Epoch 1/1\n",
            "6976/6976 [==============================] - 3s 396us/step - loss: 0.0429\n",
            "Epoch: 8\n",
            "Epoch 1/1\n",
            "6976/6976 [==============================] - 3s 393us/step - loss: 0.0422\n",
            "Epoch: 9\n",
            "Epoch 1/1\n",
            "6976/6976 [==============================] - 3s 386us/step - loss: 0.0418\n",
            "Epoch: 10\n",
            "Epoch 1/1\n",
            "6976/6976 [==============================] - 3s 443us/step - loss: 0.0412\n",
            "Epoch: 11\n",
            "Epoch 1/1\n",
            "6976/6976 [==============================] - 3s 408us/step - loss: 0.0408\n",
            "Epoch: 12\n",
            "Epoch 1/1\n",
            "6976/6976 [==============================] - 3s 387us/step - loss: 0.0403\n",
            "Epoch: 13\n",
            "Epoch 1/1\n",
            "6976/6976 [==============================] - 3s 419us/step - loss: 0.0399\n",
            "Epoch: 14\n",
            "Epoch 1/1\n",
            "6976/6976 [==============================] - 3s 451us/step - loss: 0.0396\n",
            "Epoch: 15\n",
            "Epoch 1/1\n",
            "6976/6976 [==============================] - 3s 452us/step - loss: 0.0393\n",
            "Epoch: 16\n",
            "Epoch 1/1\n",
            "6976/6976 [==============================] - 3s 413us/step - loss: 0.0390\n",
            "Epoch: 17\n",
            "Epoch 1/1\n",
            "6976/6976 [==============================] - 3s 422us/step - loss: 0.0388\n",
            "Epoch: 18\n",
            "Epoch 1/1\n",
            "6976/6976 [==============================] - 3s 414us/step - loss: 0.0386\n",
            "Epoch: 19\n",
            "Epoch 1/1\n",
            "6976/6976 [==============================] - 3s 407us/step - loss: 0.0384\n",
            "Epoch: 20\n",
            "Epoch 1/1\n",
            "6976/6976 [==============================] - 3s 448us/step - loss: 0.0382\n",
            "Epoch: 21\n",
            "Epoch 1/1\n",
            "6976/6976 [==============================] - 3s 456us/step - loss: 0.0381\n",
            "Epoch: 22\n",
            "Epoch 1/1\n",
            "6976/6976 [==============================] - 3s 413us/step - loss: 0.0379\n",
            "Epoch: 23\n",
            "Epoch 1/1\n",
            "6976/6976 [==============================] - 3s 412us/step - loss: 0.0378\n",
            "Epoch: 24\n",
            "Epoch 1/1\n",
            "6976/6976 [==============================] - 3s 427us/step - loss: 0.0376\n",
            "Epoch: 25\n",
            "Epoch 1/1\n",
            "6976/6976 [==============================] - 3s 411us/step - loss: 0.0375\n",
            "Epoch: 26\n",
            "Epoch 1/1\n",
            "6976/6976 [==============================] - 3s 470us/step - loss: 0.0373\n",
            "Epoch: 27\n",
            "Epoch 1/1\n",
            "6976/6976 [==============================] - 3s 465us/step - loss: 0.0372\n",
            "Epoch: 28\n",
            "Epoch 1/1\n",
            "6976/6976 [==============================] - 3s 499us/step - loss: 0.0371\n",
            "Epoch: 29\n",
            "Epoch 1/1\n",
            "6976/6976 [==============================] - 3s 417us/step - loss: 0.0370\n",
            "Epoch: 30\n",
            "Epoch 1/1\n",
            "6976/6976 [==============================] - 3s 421us/step - loss: 0.0369\n",
            "Epoch: 31\n",
            "Epoch 1/1\n",
            "6976/6976 [==============================] - 3s 487us/step - loss: 0.0369\n",
            "Epoch: 32\n",
            "Epoch 1/1\n",
            "6976/6976 [==============================] - 3s 434us/step - loss: 0.0367\n",
            "Epoch: 33\n",
            "Epoch 1/1\n",
            "6976/6976 [==============================] - 3s 434us/step - loss: 0.0367\n",
            "Epoch: 34\n",
            "Epoch 1/1\n",
            "6976/6976 [==============================] - 3s 435us/step - loss: 0.0366\n",
            "Epoch: 35\n",
            "Epoch 1/1\n",
            "6976/6976 [==============================] - 3s 483us/step - loss: 0.0365\n",
            "Epoch: 36\n",
            "Epoch 1/1\n",
            "6976/6976 [==============================] - 4s 634us/step - loss: 0.0364\n",
            "Epoch: 37\n",
            "Epoch 1/1\n",
            "6976/6976 [==============================] - 3s 496us/step - loss: 0.0364\n",
            "Epoch: 38\n",
            "Epoch 1/1\n",
            "6976/6976 [==============================] - 4s 508us/step - loss: 0.0362\n",
            "Epoch: 39\n",
            "Epoch 1/1\n",
            "6976/6976 [==============================] - 3s 475us/step - loss: 0.0363\n",
            "Epoch: 40\n",
            "Epoch 1/1\n",
            "6976/6976 [==============================] - 4s 546us/step - loss: 0.0360\n",
            "Epoch: 41\n",
            "Epoch 1/1\n",
            "6976/6976 [==============================] - 3s 472us/step - loss: 0.0361\n",
            "Epoch: 42\n",
            "Epoch 1/1\n",
            "6976/6976 [==============================] - 4s 544us/step - loss: 0.0359\n",
            "Epoch: 43\n",
            "Epoch 1/1\n",
            "6976/6976 [==============================] - 3s 496us/step - loss: 0.0359\n",
            "Epoch: 44\n",
            "Epoch 1/1\n",
            "6976/6976 [==============================] - 3s 480us/step - loss: 0.0358\n",
            "Epoch: 45\n",
            "Epoch 1/1\n",
            "6976/6976 [==============================] - 4s 566us/step - loss: 0.0358\n",
            "Epoch: 46\n",
            "Epoch 1/1\n",
            "6976/6976 [==============================] - 4s 511us/step - loss: 0.0357\n",
            "Epoch: 47\n",
            "Epoch 1/1\n",
            "6976/6976 [==============================] - 3s 459us/step - loss: 0.0356\n",
            "Epoch: 48\n",
            "Epoch 1/1\n",
            "6976/6976 [==============================] - 3s 453us/step - loss: 0.0356\n",
            "Epoch: 49\n",
            "Epoch 1/1\n",
            "6976/6976 [==============================] - 3s 464us/step - loss: 0.0355\n",
            "Epoch: 50\n",
            "Epoch 1/1\n",
            "6976/6976 [==============================] - 4s 506us/step - loss: 0.0355\n",
            "Epoch: 51\n",
            "Epoch 1/1\n",
            "6976/6976 [==============================] - 3s 497us/step - loss: 0.0354\n",
            "Epoch: 52\n",
            "Epoch 1/1\n",
            "6976/6976 [==============================] - 4s 511us/step - loss: 0.0354\n",
            "Epoch: 53\n",
            "Epoch 1/1\n",
            "6976/6976 [==============================] - 3s 493us/step - loss: 0.0353\n",
            "Epoch: 54\n",
            "Epoch 1/1\n",
            "6976/6976 [==============================] - 4s 572us/step - loss: 0.0352\n",
            "Epoch: 55\n",
            "Epoch 1/1\n",
            "6976/6976 [==============================] - 4s 507us/step - loss: 0.0353\n",
            "Epoch: 56\n",
            "Epoch 1/1\n",
            "6976/6976 [==============================] - 4s 521us/step - loss: 0.0351\n",
            "Epoch: 57\n",
            "Epoch 1/1\n",
            "6976/6976 [==============================] - 3s 484us/step - loss: 0.0352\n",
            "Epoch: 58\n",
            "Epoch 1/1\n",
            "6976/6976 [==============================] - 3s 499us/step - loss: 0.0351\n",
            "Epoch: 59\n",
            "Epoch 1/1\n",
            "6976/6976 [==============================] - 4s 583us/step - loss: 0.0350\n",
            "Epoch: 60\n",
            "Epoch 1/1\n",
            "6976/6976 [==============================] - 3s 490us/step - loss: 0.0349\n",
            "Epoch: 61\n",
            "Epoch 1/1\n",
            "6976/6976 [==============================] - 3s 481us/step - loss: 0.0349 0s - loss: 0.\n",
            "Epoch: 62\n",
            "Epoch 1/1\n",
            "6976/6976 [==============================] - 3s 492us/step - loss: 0.0349\n",
            "Epoch: 63\n",
            "Epoch 1/1\n",
            "6976/6976 [==============================] - 4s 581us/step - loss: 0.0348\n",
            "Epoch: 64\n",
            "Epoch 1/1\n",
            "6976/6976 [==============================] - 3s 478us/step - loss: 0.0348\n",
            "Epoch: 65\n",
            "Epoch 1/1\n",
            "6976/6976 [==============================] - 3s 452us/step - loss: 0.0347\n",
            "Epoch: 66\n",
            "Epoch 1/1\n",
            "6976/6976 [==============================] - 3s 447us/step - loss: 0.0347\n",
            "Epoch: 67\n",
            "Epoch 1/1\n",
            "6976/6976 [==============================] - 3s 444us/step - loss: 0.0347\n",
            "Epoch: 68\n",
            "Epoch 1/1\n",
            "6976/6976 [==============================] - 4s 510us/step - loss: 0.0346\n",
            "Epoch: 69\n",
            "Epoch 1/1\n",
            "6976/6976 [==============================] - 4s 567us/step - loss: 0.0346\n",
            "Epoch: 70\n",
            "Epoch 1/1\n",
            "6976/6976 [==============================] - 3s 490us/step - loss: 0.0345\n",
            "Epoch: 71\n",
            "Epoch 1/1\n",
            "6976/6976 [==============================] - 4s 512us/step - loss: 0.0345\n",
            "Epoch: 72\n",
            "Epoch 1/1\n",
            "6976/6976 [==============================] - 4s 602us/step - loss: 0.0345\n",
            "Epoch: 73\n",
            "Epoch 1/1\n",
            "6976/6976 [==============================] - 4s 606us/step - loss: 0.0345\n",
            "Epoch: 74\n",
            "Epoch 1/1\n",
            "6976/6976 [==============================] - 4s 532us/step - loss: 0.0344\n",
            "Epoch: 75\n",
            "Epoch 1/1\n",
            "6976/6976 [==============================] - 3s 491us/step - loss: 0.0344\n",
            "Epoch: 76\n",
            "Epoch 1/1\n",
            "6976/6976 [==============================] - 4s 577us/step - loss: 0.0343\n",
            "Epoch: 77\n",
            "Epoch 1/1\n",
            "6976/6976 [==============================] - 5s 659us/step - loss: 0.0343\n",
            "Epoch: 78\n",
            "Epoch 1/1\n",
            "6976/6976 [==============================] - 4s 557us/step - loss: 0.0342\n",
            "Epoch: 79\n",
            "Epoch 1/1\n",
            "6976/6976 [==============================] - 4s 523us/step - loss: 0.0342\n",
            "Epoch: 80\n",
            "Epoch 1/1\n",
            "6976/6976 [==============================] - 5s 666us/step - loss: 0.0342\n",
            "Epoch: 81\n",
            "Epoch 1/1\n",
            "6976/6976 [==============================] - 4s 641us/step - loss: 0.0342\n",
            "Epoch: 82\n",
            "Epoch 1/1\n",
            "6976/6976 [==============================] - 4s 630us/step - loss: 0.0341\n",
            "Epoch: 83\n",
            "Epoch 1/1\n",
            "6976/6976 [==============================] - 4s 633us/step - loss: 0.0341\n",
            "Epoch: 84\n",
            "Epoch 1/1\n",
            "6976/6976 [==============================] - 5s 692us/step - loss: 0.0340\n",
            "Epoch: 85\n",
            "Epoch 1/1\n",
            "6976/6976 [==============================] - 4s 581us/step - loss: 0.0340\n",
            "Epoch: 86\n",
            "Epoch 1/1\n",
            "6976/6976 [==============================] - 5s 670us/step - loss: 0.0339\n",
            "Epoch: 87\n",
            "Epoch 1/1\n"
          ],
          "name": "stdout"
        },
        {
          "output_type": "stream",
          "text": [
            "6976/6976 [==============================] - 5s 687us/step - loss: 0.0339\n",
            "Epoch: 88\n",
            "Epoch 1/1\n",
            "6976/6976 [==============================] - 4s 517us/step - loss: 0.0338 0s - l\n",
            "Epoch: 89\n",
            "Epoch 1/1\n",
            "6976/6976 [==============================] - 4s 590us/step - loss: 0.0338\n",
            "Epoch: 90\n",
            "Epoch 1/1\n",
            "6976/6976 [==============================] - 4s 543us/step - loss: 0.0338\n",
            "Epoch: 91\n",
            "Epoch 1/1\n",
            "6976/6976 [==============================] - 4s 570us/step - loss: 0.0337\n",
            "Epoch: 92\n",
            "Epoch 1/1\n",
            "6976/6976 [==============================] - 4s 540us/step - loss: 0.0337\n",
            "Epoch: 93\n",
            "Epoch 1/1\n",
            "6976/6976 [==============================] - 5s 726us/step - loss: 0.0336\n",
            "Epoch: 94\n",
            "Epoch 1/1\n",
            "6976/6976 [==============================] - 4s 637us/step - loss: 0.0337\n",
            "Epoch: 95\n",
            "Epoch 1/1\n",
            "6976/6976 [==============================] - 4s 614us/step - loss: 0.0336\n",
            "Epoch: 96\n",
            "Epoch 1/1\n",
            "6976/6976 [==============================] - 4s 502us/step - loss: 0.0336\n",
            "Epoch: 97\n",
            "Epoch 1/1\n",
            "6976/6976 [==============================] - 3s 466us/step - loss: 0.0336\n",
            "Epoch: 98\n",
            "Epoch 1/1\n",
            "6976/6976 [==============================] - 4s 510us/step - loss: 0.0335 0s \n",
            "Epoch: 99\n",
            "Epoch 1/1\n",
            "6976/6976 [==============================] - 4s 593us/step - loss: 0.0334\n",
            "Epoch: 100\n",
            "Epoch 1/1\n",
            "6976/6976 [==============================] - 3s 487us/step - loss: 0.0332\n",
            "Epoch: 101\n",
            "Epoch 1/1\n",
            "6976/6976 [==============================] - 5s 668us/step - loss: 0.0331\n",
            "Epoch: 102\n",
            "Epoch 1/1\n",
            "6976/6976 [==============================] - 4s 629us/step - loss: 0.0331\n",
            "Epoch: 103\n",
            "Epoch 1/1\n",
            "6976/6976 [==============================] - 5s 751us/step - loss: 0.0331\n",
            "Epoch: 104\n",
            "Epoch 1/1\n",
            "6976/6976 [==============================] - 4s 615us/step - loss: 0.0331\n",
            "Epoch: 105\n",
            "Epoch 1/1\n",
            "6976/6976 [==============================] - 4s 566us/step - loss: 0.0330\n",
            "Epoch: 106\n",
            "Epoch 1/1\n",
            "6976/6976 [==============================] - 4s 519us/step - loss: 0.0330\n",
            "Epoch: 107\n",
            "Epoch 1/1\n",
            "6976/6976 [==============================] - 4s 587us/step - loss: 0.0330\n",
            "Epoch: 108\n",
            "Epoch 1/1\n",
            "6976/6976 [==============================] - 3s 466us/step - loss: 0.0329\n",
            "Epoch: 109\n",
            "Epoch 1/1\n",
            "6976/6976 [==============================] - 3s 458us/step - loss: 0.0329\n",
            "Epoch: 110\n",
            "Epoch 1/1\n",
            "6976/6976 [==============================] - 3s 460us/step - loss: 0.0329\n",
            "Epoch: 111\n",
            "Epoch 1/1\n",
            "6976/6976 [==============================] - 3s 476us/step - loss: 0.0329\n",
            "Epoch: 112\n",
            "Epoch 1/1\n",
            "6976/6976 [==============================] - 4s 534us/step - loss: 0.0328\n",
            "Epoch: 113\n",
            "Epoch 1/1\n",
            "6976/6976 [==============================] - 4s 512us/step - loss: 0.0329\n",
            "Epoch: 114\n",
            "Epoch 1/1\n",
            "6976/6976 [==============================] - 4s 519us/step - loss: 0.0328\n",
            "Epoch: 115\n",
            "Epoch 1/1\n",
            "6976/6976 [==============================] - 4s 526us/step - loss: 0.0328\n",
            "Epoch: 116\n",
            "Epoch 1/1\n",
            "6976/6976 [==============================] - 4s 585us/step - loss: 0.0326\n",
            "Epoch: 117\n",
            "Epoch 1/1\n",
            "6976/6976 [==============================] - 4s 547us/step - loss: 0.0327\n",
            "Epoch: 118\n",
            "Epoch 1/1\n",
            "6976/6976 [==============================] - 4s 506us/step - loss: 0.0325\n",
            "Epoch: 119\n",
            "Epoch 1/1\n",
            "6976/6976 [==============================] - 4s 506us/step - loss: 0.0326\n"
          ],
          "name": "stdout"
        }
      ]
    },
    {
      "cell_type": "code",
      "metadata": {
        "id": "TdvnMgYlWA28",
        "colab_type": "code",
        "colab": {}
      },
      "source": [
        "#save model\n",
        "import h5py\n",
        "regressor_mae.save(filepath=\"my_model_with_mae_30_ts.h5\")"
      ],
      "execution_count": null,
      "outputs": []
    },
    {
      "cell_type": "code",
      "metadata": {
        "id": "MaHOtI5jWA3E",
        "colab_type": "code",
        "colab": {}
      },
      "source": [
        "#load model\n",
        "import h5py\n",
        "regressor_mae = load_model(filepath=\"my_model_with_mae_30_ts.h5\")"
      ],
      "execution_count": null,
      "outputs": []
    },
    {
      "cell_type": "code",
      "metadata": {
        "id": "FzVRpQIOWA3J",
        "colab_type": "code",
        "colab": {}
      },
      "source": [
        "def get_test_length(dataset, batch_size):\n",
        "    \n",
        "    test_length_values = []\n",
        "    for x in range(len(dataset) - 200, len(dataset) - timesteps*2): \n",
        "        modulo=(x-upper_train)%batch_size\n",
        "        if (modulo == 0):\n",
        "            test_length_values.append(x)\n",
        "            print(x)\n",
        "    return (max(test_length_values))"
      ],
      "execution_count": null,
      "outputs": []
    },
    {
      "cell_type": "code",
      "metadata": {
        "id": "G6a_Pn87WA3O",
        "colab_type": "code",
        "colab": {},
        "outputId": "a072a44a-1fe5-4e3e-88d5-79f6720ee23f"
      },
      "source": [
        "test_length = get_test_length(df_data_1, batch_size)\n",
        "print(test_length)\n",
        "upper_test = test_length + timesteps*2\n",
        "testset_length = test_length - upper_train\n",
        "print(testset_length)"
      ],
      "execution_count": null,
      "outputs": [
        {
          "output_type": "stream",
          "text": [
            "7612\n",
            "7676\n",
            "7676\n",
            "640\n"
          ],
          "name": "stdout"
        }
      ]
    },
    {
      "cell_type": "code",
      "metadata": {
        "id": "YOp9aa_1WA3T",
        "colab_type": "code",
        "colab": {},
        "outputId": "2d8af6fb-a6ad-4fd3-9c81-50708a100cbb"
      },
      "source": [
        "print(upper_train, upper_test, len(df_data_1))"
      ],
      "execution_count": null,
      "outputs": [
        {
          "output_type": "stream",
          "text": [
            "7036 7736 7783\n"
          ],
          "name": "stdout"
        }
      ]
    },
    {
      "cell_type": "code",
      "metadata": {
        "id": "PgpD3bWyWA3a",
        "colab_type": "code",
        "colab": {}
      },
      "source": [
        "# construct test set\n",
        "\n",
        "#subsetting\n",
        "df_data_1_test = df_data_1[upper_train:upper_test] \n",
        "test_set = df_data_1_test.iloc[:,1:2].values\n",
        "\n",
        "#scaling\n",
        "scaled_real_bcg_values_test = sc.fit_transform(np.float64(test_set))\n",
        "\n",
        "#creating input data\n",
        "X_test = []\n",
        "for i in range(timesteps, testset_length + timesteps):\n",
        "    X_test.append(scaled_real_bcg_values_test[i-timesteps:i, 0])\n",
        "X_test = np.array(X_test)\n",
        "\n",
        "\n",
        "#reshaping\n",
        "X_test = np.reshape(X_test, (X_test.shape[0], X_test.shape[1], 1))\n"
      ],
      "execution_count": null,
      "outputs": []
    },
    {
      "cell_type": "code",
      "metadata": {
        "id": "GQoNf-XIWA3e",
        "colab_type": "code",
        "colab": {},
        "outputId": "96a021fe-69df-42bf-ffb3-264c93336d5c"
      },
      "source": [
        "X_test.shape"
      ],
      "execution_count": null,
      "outputs": [
        {
          "output_type": "execute_result",
          "data": {
            "text/plain": [
              "(640, 30, 1)"
            ]
          },
          "metadata": {
            "tags": []
          },
          "execution_count": 29
        }
      ]
    },
    {
      "cell_type": "code",
      "metadata": {
        "id": "7h5i7K2qWA3j",
        "colab_type": "code",
        "colab": {},
        "outputId": "bd0dfe07-649a-4db0-b4d8-6c23b044359d"
      },
      "source": [
        "#prediction\n",
        "predicted_bcg_values_test_mae = regressor_mae.predict(X_test, batch_size=batch_size)\n",
        "regressor_mae.reset_states()\n",
        "\n",
        "print(predicted_bcg_values_test_mae.shape)\n",
        "\n",
        "#reshaping\n",
        "predicted_bcg_values_test_mae = np.reshape(predicted_bcg_values_test_mae, \n",
        "                                       (predicted_bcg_values_test_mae.shape[0], \n",
        "                                        predicted_bcg_values_test_mae.shape[1]))\n",
        "\n",
        "print(predicted_bcg_values_test_mae.shape)\n",
        "#inverse transform\n",
        "predicted_bcg_values_test_mae = sc.inverse_transform(predicted_bcg_values_test_mae)\n",
        "\n",
        "\n",
        "#creating y_test data\n",
        "y_test = []\n",
        "for j in range(0, testset_length - timesteps):\n",
        "    y_test = np.append(y_test, predicted_bcg_values_test_mae[j, timesteps-1])\n",
        "\n",
        "# reshaping\n",
        "y_test = np.reshape(y_test, (y_test.shape[0], 1))\n",
        "\n",
        "print(y_test.shape)"
      ],
      "execution_count": null,
      "outputs": [
        {
          "output_type": "stream",
          "text": [
            "(640, 30, 1)\n",
            "(640, 30)\n",
            "(610, 1)\n"
          ],
          "name": "stdout"
        }
      ]
    },
    {
      "cell_type": "code",
      "metadata": {
        "id": "J4gRipWIWA3p",
        "colab_type": "code",
        "colab": {},
        "outputId": "8f07dde1-221a-4729-dbef-483432a7d64e"
      },
      "source": [
        "# Visualising the results\n",
        "plt.plot(test_set[timesteps:len(y_test)].astype(float), color = 'red', label = 'Real Crude Oil Prices')\n",
        "plt.plot(y_test[0:len(y_test) - timesteps].astype(float), color = 'blue', label = 'Predicted Crude Oil Prices')\n",
        "plt.title('Crude Oil Prices Prediction - MAE')\n",
        "plt.xlabel('Time')\n",
        "plt.ylabel('Crude Oil Prices')\n",
        "plt.legend()\n",
        "plt.show()"
      ],
      "execution_count": null,
      "outputs": [
        {
          "output_type": "display_data",
          "data": {
            "image/png": "[encoded data removed]",
            "text/plain": [
              "<Figure size 432x288 with 1 Axes>"
            ]
          },
          "metadata": {
            "tags": [],
            "needs_background": "light"
          }
        }
      ]
    },
    {
      "cell_type": "code",
      "metadata": {
        "id": "-sxN7dgEWA3v",
        "colab_type": "code",
        "colab": {},
        "outputId": "67d63ba6-afdb-4c62-cfc1-862ed1c94432"
      },
      "source": [
        "#MSE (mean sqared error)\n",
        "import math\n",
        "from sklearn.metrics import mean_squared_error\n",
        "rmse = math.sqrt(mean_squared_error(test_set[timesteps:len(y_test)], y_test[0:len(y_test) - timesteps]))\n",
        "print(rmse)"
      ],
      "execution_count": null,
      "outputs": [
        {
          "output_type": "stream",
          "text": [
            "2.8968079283804906\n"
          ],
          "name": "stdout"
        }
      ]
    },
    {
      "cell_type": "code",
      "metadata": {
        "id": "bQpsQSA0WA30",
        "colab_type": "code",
        "colab": {},
        "outputId": "0210bae0-ac24-4e52-f398-afc6de886287"
      },
      "source": [
        "#MAE (mean absolut error)\n",
        "from sklearn.metrics import mean_absolute_error\n",
        "mae = mean_absolute_error(test_set[timesteps:len(y_test)], y_test[0:len(y_test) - timesteps])\n",
        "print(mae)"
      ],
      "execution_count": null,
      "outputs": [
        {
          "output_type": "stream",
          "text": [
            "2.4658096809387207\n"
          ],
          "name": "stdout"
        }
      ]
    },
    {
      "cell_type": "code",
      "metadata": {
        "id": "LMKRyRjxWA34",
        "colab_type": "code",
        "colab": {}
      },
      "source": [
        ""
      ],
      "execution_count": null,
      "outputs": []
    },
    {
      "cell_type": "code",
      "metadata": {
        "id": "7WUfRAkuWA4A",
        "colab_type": "code",
        "colab": {},
        "outputId": "b59594ab-9243-4db5-d575-e7712a08974f"
      },
      "source": [
        "# Initialising the LSTM Model with MSE Loss Function\n",
        "\n",
        "inputs_1_mse = Input(batch_shape=(batch_size,timesteps,1))\n",
        "lstm_1_mse = LSTM(10, stateful=True, return_sequences=True)(inputs_1_mse)\n",
        "lstm_2_mse = LSTM(10, stateful=True, return_sequences=True)(lstm_1_mse)\n",
        "\n",
        "output_1_mse = Dense(units = 1)(lstm_2_mse)\n",
        "\n",
        "regressor_mse = Model(inputs=inputs_1_mse, outputs = output_1_mse)\n",
        "\n",
        "#mse -> mean squared error as loss function\n",
        "regressor_mse.compile(optimizer='adam', loss = 'mse')\n",
        "regressor_mse.summary()"
      ],
      "execution_count": null,
      "outputs": [
        {
          "output_type": "stream",
          "text": [
            "_________________________________________________________________\n",
            "Layer (type)                 Output Shape              Param #   \n",
            "=================================================================\n",
            "input_2 (InputLayer)         (64, 30, 1)               0         \n",
            "_________________________________________________________________\n",
            "lstm_3 (LSTM)                (64, 30, 10)              480       \n",
            "_________________________________________________________________\n",
            "lstm_4 (LSTM)                (64, 30, 10)              840       \n",
            "_________________________________________________________________\n",
            "dense_2 (Dense)              (64, 30, 1)               11        \n",
            "=================================================================\n",
            "Total params: 1,331\n",
            "Trainable params: 1,331\n",
            "Non-trainable params: 0\n",
            "_________________________________________________________________\n"
          ],
          "name": "stdout"
        }
      ]
    },
    {
      "cell_type": "code",
      "metadata": {
        "id": "93g0mwurWA4F",
        "colab_type": "code",
        "colab": {}
      },
      "source": [
        "#some learners constantly reported 502 errors in Watson Studio. \n",
        "#This is due to the limited resources in the free tier and the heavy resource consumption of Keras.\n",
        "#This is a workaround to limit resource consumption\n",
        "\n",
        "from keras import backend as K\n",
        "\n",
        "K.set_session(K.tf.Session(config=K.tf.ConfigProto(intra_op_parallelism_threads=1, inter_op_parallelism_threads=1)))\n"
      ],
      "execution_count": null,
      "outputs": []
    },
    {
      "cell_type": "code",
      "metadata": {
        "id": "IMYGErzTWA4L",
        "colab_type": "code",
        "colab": {},
        "outputId": "b8f3b940-4e83-46b6-a372-0024bf88420a"
      },
      "source": [
        "epochs = 120\n",
        "for i in range(epochs):\n",
        "    print(\"Epoch: \" + str(i))\n",
        "    regressor_mse.fit(X_train, y_train, shuffle=False, epochs = 1, batch_size = batch_size)\n",
        "    regressor_mse.reset_states()"
      ],
      "execution_count": null,
      "outputs": [
        {
          "output_type": "stream",
          "text": [
            "Epoch: 0\n",
            "Epoch 1/1\n",
            "6976/6976 [==============================] - 4s 578us/step - loss: 0.0057\n",
            "Epoch: 1\n",
            "Epoch 1/1\n",
            "6976/6976 [==============================] - 3s 392us/step - loss: 0.0060\n",
            "Epoch: 2\n",
            "Epoch 1/1\n",
            "6976/6976 [==============================] - 4s 585us/step - loss: 0.0049\n",
            "Epoch: 3\n",
            "Epoch 1/1\n",
            "6976/6976 [==============================] - 8s 1ms/step - loss: 0.0044\n",
            "Epoch: 4\n",
            "Epoch 1/1\n",
            "6976/6976 [==============================] - 9s 1ms/step - loss: 0.0041\n",
            "Epoch: 5\n",
            "Epoch 1/1\n",
            "6976/6976 [==============================] - 9s 1ms/step - loss: 0.0040\n",
            "Epoch: 6\n",
            "Epoch 1/1\n",
            "6976/6976 [==============================] - 6s 915us/step - loss: 0.0039\n",
            "Epoch: 7\n",
            "Epoch 1/1\n",
            "6976/6976 [==============================] - 4s 625us/step - loss: 0.0038\n",
            "Epoch: 8\n",
            "Epoch 1/1\n",
            "6976/6976 [==============================] - 4s 544us/step - loss: 0.0038\n",
            "Epoch: 9\n",
            "Epoch 1/1\n",
            "6976/6976 [==============================] - 5s 743us/step - loss: 0.0037\n",
            "Epoch: 10\n",
            "Epoch 1/1\n",
            "6976/6976 [==============================] - 5s 706us/step - loss: 0.0037\n",
            "Epoch: 11\n",
            "Epoch 1/1\n",
            "6976/6976 [==============================] - 8s 1ms/step - loss: 0.0037\n",
            "Epoch: 12\n",
            "Epoch 1/1\n",
            "6976/6976 [==============================] - 7s 1ms/step - loss: 0.0036\n",
            "Epoch: 13\n",
            "Epoch 1/1\n",
            "6976/6976 [==============================] - 8s 1ms/step - loss: 0.0036\n",
            "Epoch: 14\n",
            "Epoch 1/1\n",
            "6976/6976 [==============================] - 7s 1ms/step - loss: 0.0036\n",
            "Epoch: 15\n",
            "Epoch 1/1\n",
            "6976/6976 [==============================] - 9s 1ms/step - loss: 0.0035\n",
            "Epoch: 16\n",
            "Epoch 1/1\n",
            "6976/6976 [==============================] - 9s 1ms/step - loss: 0.0035\n",
            "Epoch: 17\n",
            "Epoch 1/1\n",
            "6976/6976 [==============================] - 9s 1ms/step - loss: 0.0035\n",
            "Epoch: 18\n",
            "Epoch 1/1\n",
            "6976/6976 [==============================] - 8s 1ms/step - loss: 0.0034\n",
            "Epoch: 19\n",
            "Epoch 1/1\n",
            "6976/6976 [==============================] - 7s 1ms/step - loss: 0.0034\n",
            "Epoch: 20\n",
            "Epoch 1/1\n",
            "6976/6976 [==============================] - 7s 1ms/step - loss: 0.0034\n",
            "Epoch: 21\n",
            "Epoch 1/1\n",
            "6976/6976 [==============================] - 9s 1ms/step - loss: 0.0034\n",
            "Epoch: 22\n",
            "Epoch 1/1\n",
            "6976/6976 [==============================] - 11s 2ms/step - loss: 0.0033\n",
            "Epoch: 23\n",
            "Epoch 1/1\n",
            "6976/6976 [==============================] - 9s 1ms/step - loss: 0.0033\n",
            "Epoch: 24\n",
            "Epoch 1/1\n",
            "6976/6976 [==============================] - 7s 1ms/step - loss: 0.0033\n",
            "Epoch: 25\n",
            "Epoch 1/1\n",
            "6976/6976 [==============================] - 7s 963us/step - loss: 0.0033A: 1s - loss:  -  - ETA: 0s - loss: 0.002\n",
            "Epoch: 26\n",
            "Epoch 1/1\n",
            "6976/6976 [==============================] - 7s 964us/step - loss: 0.0032\n",
            "Epoch: 27\n",
            "Epoch 1/1\n",
            "6976/6976 [==============================] - 8s 1ms/step - loss: 0.0032\n",
            "Epoch: 28\n",
            "Epoch 1/1\n",
            "6976/6976 [==============================] - 9s 1ms/step - loss: 0.0032\n",
            "Epoch: 29\n",
            "Epoch 1/1\n",
            "6976/6976 [==============================] - 8s 1ms/step - loss: 0.0031\n",
            "Epoch: 30\n",
            "Epoch 1/1\n",
            "6976/6976 [==============================] - 8s 1ms/step - loss: 0.0031\n",
            "Epoch: 31\n",
            "Epoch 1/1\n",
            "6976/6976 [==============================] - 9s 1ms/step - loss: 0.0031\n",
            "Epoch: 32\n",
            "Epoch 1/1\n",
            "6976/6976 [==============================] - 8s 1ms/step - loss: 0.0031\n",
            "Epoch: 33\n",
            "Epoch 1/1\n",
            "6976/6976 [==============================] - 7s 1ms/step - loss: 0.0030\n",
            "Epoch: 34\n",
            "Epoch 1/1\n",
            "6976/6976 [==============================] - 9s 1ms/step - loss: 0.0030\n",
            "Epoch: 35\n",
            "Epoch 1/1\n",
            "6976/6976 [==============================] - 7s 1ms/step - loss: 0.0030\n",
            "Epoch: 36\n",
            "Epoch 1/1\n",
            "6976/6976 [==============================] - 7s 958us/step - loss: 0.0030\n",
            "Epoch: 37\n",
            "Epoch 1/1\n",
            "6976/6976 [==============================] - 6s 918us/step - loss: 0.0030\n",
            "Epoch: 38\n",
            "Epoch 1/1\n",
            "6976/6976 [==============================] - 7s 972us/step - loss: 0.0031\n",
            "Epoch: 39\n",
            "Epoch 1/1\n",
            "6976/6976 [==============================] - 7s 1ms/step - loss: 0.0030\n",
            "Epoch: 40\n",
            "Epoch 1/1\n",
            "6976/6976 [==============================] - 7s 949us/step - loss: 0.0029\n",
            "Epoch: 41\n",
            "Epoch 1/1\n",
            "6976/6976 [==============================] - 7s 987us/step - loss: 0.0029\n",
            "Epoch: 42\n",
            "Epoch 1/1\n",
            "6976/6976 [==============================] - 7s 996us/step - loss: 0.0030\n",
            "Epoch: 43\n",
            "Epoch 1/1\n",
            "6976/6976 [==============================] - 6s 915us/step - loss: 0.0030\n",
            "Epoch: 44\n",
            "Epoch 1/1\n",
            "6976/6976 [==============================] - 7s 990us/step - loss: 0.0030 0s - loss: 0.002\n",
            "Epoch: 45\n",
            "Epoch 1/1\n",
            "6976/6976 [==============================] - 6s 918us/step - loss: 0.0029ET\n",
            "Epoch: 46\n",
            "Epoch 1/1\n",
            "6976/6976 [==============================] - 7s 961us/step - loss: 0.0030\n",
            "Epoch: 47\n",
            "Epoch 1/1\n",
            "6976/6976 [==============================] - 6s 895us/step - loss: 0.0030\n",
            "Epoch: 48\n",
            "Epoch 1/1\n",
            "6976/6976 [==============================] - 6s 883us/step - loss: 0.0029\n",
            "Epoch: 49\n",
            "Epoch 1/1\n",
            "6976/6976 [==============================] - 6s 910us/step - loss: 0.0029 0s - loss: 0.\n",
            "Epoch: 50\n",
            "Epoch 1/1\n",
            "6976/6976 [==============================] - 6s 888us/step - loss: 0.0030\n",
            "Epoch: 51\n",
            "Epoch 1/1\n",
            "6976/6976 [==============================] - 6s 926us/step - loss: 0.0028\n",
            "Epoch: 52\n",
            "Epoch 1/1\n",
            "6976/6976 [==============================] - 6s 911us/step - loss: 0.0028\n",
            "Epoch: 53\n",
            "Epoch 1/1\n",
            "6976/6976 [==============================] - ETA: 0s - loss: 0.002 - 6s 920us/step - loss: 0.0029\n",
            "Epoch: 54\n",
            "Epoch 1/1\n",
            "6976/6976 [==============================] - 6s 921us/step - loss: 0.0028\n",
            "Epoch: 55\n",
            "Epoch 1/1\n",
            "6976/6976 [==============================] - 7s 963us/step - loss: 0.0028 0s\n",
            "Epoch: 56\n",
            "Epoch 1/1\n",
            "6976/6976 [==============================] - 7s 970us/step - loss: 0.0029\n",
            "Epoch: 57\n",
            "Epoch 1/1\n",
            "6976/6976 [==============================] - 5s 659us/step - loss: 0.0028\n",
            "Epoch: 58\n",
            "Epoch 1/1\n",
            "6976/6976 [==============================] - 5s 648us/step - loss: 0.0028\n",
            "Epoch: 59\n",
            "Epoch 1/1\n",
            "6976/6976 [==============================] - 5s 721us/step - loss: 0.0029\n",
            "Epoch: 60\n",
            "Epoch 1/1\n",
            "6976/6976 [==============================] - 5s 704us/step - loss: 0.0029\n",
            "Epoch: 61\n",
            "Epoch 1/1\n",
            "6976/6976 [==============================] - 7s 944us/step - loss: 0.0028\n",
            "Epoch: 62\n",
            "Epoch 1/1\n",
            "6976/6976 [==============================] - 5s 705us/step - loss: 0.0029\n",
            "Epoch: 63\n",
            "Epoch 1/1\n",
            "6976/6976 [==============================] - 4s 600us/step - loss: 0.0029\n",
            "Epoch: 64\n",
            "Epoch 1/1\n",
            "6976/6976 [==============================] - 5s 707us/step - loss: 0.0029\n",
            "Epoch: 65\n",
            "Epoch 1/1\n",
            "6976/6976 [==============================] - 4s 614us/step - loss: 0.0029\n",
            "Epoch: 66\n",
            "Epoch 1/1\n",
            "6976/6976 [==============================] - 5s 759us/step - loss: 0.0028\n",
            "Epoch: 67\n",
            "Epoch 1/1\n",
            "6976/6976 [==============================] - 4s 640us/step - loss: 0.0028\n",
            "Epoch: 68\n",
            "Epoch 1/1\n",
            "6976/6976 [==============================] - 4s 629us/step - loss: 0.0028\n",
            "Epoch: 69\n",
            "Epoch 1/1\n",
            "6976/6976 [==============================] - 5s 743us/step - loss: 0.0028\n",
            "Epoch: 70\n",
            "Epoch 1/1\n",
            "6976/6976 [==============================] - 4s 622us/step - loss: 0.0027\n",
            "Epoch: 71\n",
            "Epoch 1/1\n",
            "6976/6976 [==============================] - 4s 609us/step - loss: 0.0028\n",
            "Epoch: 72\n",
            "Epoch 1/1\n",
            "6976/6976 [==============================] - 5s 651us/step - loss: 0.0028\n",
            "Epoch: 73\n",
            "Epoch 1/1\n",
            "6976/6976 [==============================] - 5s 704us/step - loss: 0.0027\n",
            "Epoch: 74\n",
            "Epoch 1/1\n",
            "6976/6976 [==============================] - 4s 548us/step - loss: 0.0028\n",
            "Epoch: 75\n",
            "Epoch 1/1\n",
            "6976/6976 [==============================] - 4s 596us/step - loss: 0.0027\n",
            "Epoch: 76\n",
            "Epoch 1/1\n",
            "6976/6976 [==============================] - 5s 659us/step - loss: 0.0027\n",
            "Epoch: 77\n",
            "Epoch 1/1\n",
            "6976/6976 [==============================] - 4s 596us/step - loss: 0.0028\n",
            "Epoch: 78\n",
            "Epoch 1/1\n",
            "6976/6976 [==============================] - 4s 579us/step - loss: 0.0027\n",
            "Epoch: 79\n",
            "Epoch 1/1\n",
            "6976/6976 [==============================] - 5s 653us/step - loss: 0.0030\n",
            "Epoch: 80\n",
            "Epoch 1/1\n",
            "6976/6976 [==============================] - 5s 673us/step - loss: 0.0028\n",
            "Epoch: 81\n",
            "Epoch 1/1\n",
            "6976/6976 [==============================] - 4s 609us/step - loss: 0.0027\n",
            "Epoch: 82\n",
            "Epoch 1/1\n",
            "6976/6976 [==============================] - 4s 599us/step - loss: 0.0026\n",
            "Epoch: 83\n",
            "Epoch 1/1\n",
            "6976/6976 [==============================] - 5s 737us/step - loss: 0.0026\n",
            "Epoch: 84\n",
            "Epoch 1/1\n",
            "6976/6976 [==============================] - 5s 671us/step - loss: 0.0025\n",
            "Epoch: 85\n",
            "Epoch 1/1\n",
            "6976/6976 [==============================] - 4s 622us/step - loss: 0.0026\n",
            "Epoch: 86\n",
            "Epoch 1/1\n"
          ],
          "name": "stdout"
        },
        {
          "output_type": "stream",
          "text": [
            "6976/6976 [==============================] - 4s 571us/step - loss: 0.0027\n",
            "Epoch: 87\n",
            "Epoch 1/1\n",
            "6976/6976 [==============================] - 5s 683us/step - loss: 0.0028\n",
            "Epoch: 88\n",
            "Epoch 1/1\n",
            "6976/6976 [==============================] - 4s 564us/step - loss: 0.0028\n",
            "Epoch: 89\n",
            "Epoch 1/1\n",
            "6976/6976 [==============================] - 4s 556us/step - loss: 0.0028\n",
            "Epoch: 90\n",
            "Epoch 1/1\n",
            "6976/6976 [==============================] - 4s 554us/step - loss: 0.0026\n",
            "Epoch: 91\n",
            "Epoch 1/1\n",
            "6976/6976 [==============================] - 4s 615us/step - loss: 0.0025\n",
            "Epoch: 92\n",
            "Epoch 1/1\n",
            "6976/6976 [==============================] - 4s 565us/step - loss: 0.0025\n",
            "Epoch: 93\n",
            "Epoch 1/1\n",
            "6976/6976 [==============================] - 3s 468us/step - loss: 0.0027\n",
            "Epoch: 94\n",
            "Epoch 1/1\n",
            "6976/6976 [==============================] - 3s 436us/step - loss: 0.0031\n",
            "Epoch: 95\n",
            "Epoch 1/1\n",
            "6976/6976 [==============================] - 4s 519us/step - loss: 0.0032\n",
            "Epoch: 96\n",
            "Epoch 1/1\n",
            "6976/6976 [==============================] - 3s 467us/step - loss: 0.0030\n",
            "Epoch: 97\n",
            "Epoch 1/1\n",
            "6976/6976 [==============================] - 3s 438us/step - loss: 0.0028\n",
            "Epoch: 98\n",
            "Epoch 1/1\n",
            "6976/6976 [==============================] - 3s 449us/step - loss: 0.0027\n",
            "Epoch: 99\n",
            "Epoch 1/1\n",
            "6976/6976 [==============================] - 3s 435us/step - loss: 0.0027\n",
            "Epoch: 100\n",
            "Epoch 1/1\n",
            "6976/6976 [==============================] - 3s 475us/step - loss: 0.0027\n",
            "Epoch: 101\n",
            "Epoch 1/1\n",
            "6976/6976 [==============================] - 3s 482us/step - loss: 0.0026\n",
            "Epoch: 102\n",
            "Epoch 1/1\n",
            "6976/6976 [==============================] - 3s 450us/step - loss: 0.0026\n",
            "Epoch: 103\n",
            "Epoch 1/1\n",
            "6976/6976 [==============================] - 3s 446us/step - loss: 0.0026\n",
            "Epoch: 104\n",
            "Epoch 1/1\n",
            "6976/6976 [==============================] - 3s 449us/step - loss: 0.0026\n",
            "Epoch: 105\n",
            "Epoch 1/1\n",
            "6976/6976 [==============================] - 3s 486us/step - loss: 0.0026\n",
            "Epoch: 106\n",
            "Epoch 1/1\n",
            "6976/6976 [==============================] - 3s 475us/step - loss: 0.0026\n",
            "Epoch: 107\n",
            "Epoch 1/1\n",
            "6976/6976 [==============================] - 3s 451us/step - loss: 0.0026\n",
            "Epoch: 108\n",
            "Epoch 1/1\n",
            "6976/6976 [==============================] - 3s 491us/step - loss: 0.0026\n",
            "Epoch: 109\n",
            "Epoch 1/1\n",
            "6976/6976 [==============================] - 3s 454us/step - loss: 0.0026\n",
            "Epoch: 110\n",
            "Epoch 1/1\n",
            "6976/6976 [==============================] - 3s 499us/step - loss: 0.0025\n",
            "Epoch: 111\n",
            "Epoch 1/1\n",
            "6976/6976 [==============================] - 3s 488us/step - loss: 0.0026\n",
            "Epoch: 112\n",
            "Epoch 1/1\n",
            "6976/6976 [==============================] - 3s 477us/step - loss: 0.0028\n",
            "Epoch: 113\n",
            "Epoch 1/1\n",
            "6976/6976 [==============================] - 3s 476us/step - loss: 0.0027\n",
            "Epoch: 114\n",
            "Epoch 1/1\n",
            "6976/6976 [==============================] - 3s 448us/step - loss: 0.0027\n",
            "Epoch: 115\n",
            "Epoch 1/1\n",
            "6976/6976 [==============================] - 4s 551us/step - loss: 0.0026\n",
            "Epoch: 116\n",
            "Epoch 1/1\n",
            "6976/6976 [==============================] - 3s 456us/step - loss: 0.0026\n",
            "Epoch: 117\n",
            "Epoch 1/1\n",
            "6976/6976 [==============================] - 3s 443us/step - loss: 0.0026\n",
            "Epoch: 118\n",
            "Epoch 1/1\n",
            "6976/6976 [==============================] - 3s 444us/step - loss: 0.0026\n",
            "Epoch: 119\n",
            "Epoch 1/1\n",
            "6976/6976 [==============================] - 4s 521us/step - loss: 0.0026\n"
          ],
          "name": "stdout"
        }
      ]
    },
    {
      "cell_type": "code",
      "metadata": {
        "id": "SQbks4AyWA4U",
        "colab_type": "code",
        "colab": {}
      },
      "source": [
        "import h5py\n",
        "regressor_mse.save(filepath=\"my_model_with_mse_30_ts.h5\")"
      ],
      "execution_count": null,
      "outputs": []
    },
    {
      "cell_type": "code",
      "metadata": {
        "id": "qZAwiq1bWA4a",
        "colab_type": "code",
        "colab": {}
      },
      "source": [
        "regressor_mse = load_model(filepath=\"my_model_with_mse_30_ts.h5\")"
      ],
      "execution_count": null,
      "outputs": []
    },
    {
      "cell_type": "code",
      "metadata": {
        "id": "TgFM-cDWWA4i",
        "colab_type": "code",
        "colab": {}
      },
      "source": [
        "predicted_bcg_values_test_mse = regressor_mse.predict(X_test, batch_size=batch_size)\n",
        "regressor_mse.reset_states()\n",
        "\n",
        "predicted_bcg_values_test_mse = np.reshape(predicted_bcg_values_test_mse, \n",
        "                                       (predicted_bcg_values_test_mse.shape[0], \n",
        "                                        predicted_bcg_values_test_mse.shape[1]))\n",
        "predicted_bcg_values_test_mse = sc.inverse_transform(predicted_bcg_values_test_mse)\n",
        "\n",
        "pred_mse = []\n",
        "\n",
        "for j in range(0, testset_length - timesteps):\n",
        "    pred_mse = np.append(pred_mse, predicted_bcg_values_test_mse[j, timesteps-1])\n",
        "\n",
        "pred_mse = np.reshape(pred_mse, (pred_mse.shape[0], 1))"
      ],
      "execution_count": null,
      "outputs": []
    },
    {
      "cell_type": "code",
      "metadata": {
        "id": "z6A-0kPQWA4n",
        "colab_type": "code",
        "colab": {},
        "outputId": "5a5dee46-4516-45f6-ce98-b491ea278912"
      },
      "source": [
        "# Visualising the results\n",
        "plt.plot(test_set[timesteps:len(pred_mse)].astype(float), color = 'red', label = 'Real Crude Oil Prices')\n",
        "plt.plot(pred_mse[0:len(pred_mse) - timesteps], color = 'green', label = 'Predicted Crude Oil Prices with MSE')\n",
        "plt.title('Crude Oil Prices Prediction - MSE')\n",
        "plt.xlabel('Time')\n",
        "plt.ylabel('Crude Oil Prices')\n",
        "plt.legend()\n",
        "plt.show()"
      ],
      "execution_count": null,
      "outputs": [
        {
          "output_type": "display_data",
          "data": {
            "image/png": "[encoded data removed]",
            "text/plain": [
              "<Figure size 432x288 with 1 Axes>"
            ]
          },
          "metadata": {
            "tags": [],
            "needs_background": "light"
          }
        }
      ]
    },
    {
      "cell_type": "code",
      "metadata": {
        "id": "klkcnom3WA4u",
        "colab_type": "code",
        "colab": {},
        "outputId": "be96b3a2-7e8d-4a4d-a77a-e1acbe6562bf"
      },
      "source": [
        "from sklearn.metrics import mean_squared_error\n",
        "rmse = math.sqrt(mean_squared_error(test_set[timesteps:len(pred_mse)], pred_mse[0:len(pred_mse) - timesteps]))\n",
        "print(rmse)"
      ],
      "execution_count": null,
      "outputs": [
        {
          "output_type": "stream",
          "text": [
            "2.7845340781615557\n"
          ],
          "name": "stdout"
        }
      ]
    },
    {
      "cell_type": "code",
      "metadata": {
        "id": "EKjmQgd6WA45",
        "colab_type": "code",
        "colab": {},
        "outputId": "1d6cb539-a8fb-4c74-d54b-5e00b4474943"
      },
      "source": [
        "mean = np.mean(np.float64(test_set[timesteps:len(pred_mse)]))\n",
        "print(mean)"
      ],
      "execution_count": null,
      "outputs": [
        {
          "output_type": "stream",
          "text": [
            "48.153965517241375\n"
          ],
          "name": "stdout"
        }
      ]
    },
    {
      "cell_type": "code",
      "metadata": {
        "id": "AsyWz1syWA49",
        "colab_type": "code",
        "colab": {},
        "outputId": "41da3801-8c99-42b3-ef07-09e2793f9bb6"
      },
      "source": [
        "rmse/mean * 100"
      ],
      "execution_count": null,
      "outputs": [
        {
          "output_type": "execute_result",
          "data": {
            "text/plain": [
              "5.782564422787906"
            ]
          },
          "metadata": {
            "tags": []
          },
          "execution_count": 43
        }
      ]
    },
    {
      "cell_type": "code",
      "metadata": {
        "id": "wtoCP1NiWA5C",
        "colab_type": "code",
        "colab": {},
        "outputId": "0e5ce080-b31d-4df1-8899-8d695ce81cff"
      },
      "source": [
        "from sklearn.metrics import mean_absolute_error\n",
        "mae = mean_absolute_error(test_set[timesteps:len(pred_mse)], pred_mse[0:len(pred_mse) - timesteps])\n",
        "print(mae)"
      ],
      "execution_count": null,
      "outputs": [
        {
          "output_type": "stream",
          "text": [
            "2.382008031253157\n"
          ],
          "name": "stdout"
        }
      ]
    },
    {
      "cell_type": "code",
      "metadata": {
        "id": "ZayA2YukWA5I",
        "colab_type": "code",
        "colab": {},
        "outputId": "9c1dd01f-216e-44aa-d6fc-df988363080b"
      },
      "source": [
        "mae/mean * 100"
      ],
      "execution_count": null,
      "outputs": [
        {
          "output_type": "execute_result",
          "data": {
            "text/plain": [
              "4.946649784014748"
            ]
          },
          "metadata": {
            "tags": []
          },
          "execution_count": 45
        }
      ]
    }
  ]
}